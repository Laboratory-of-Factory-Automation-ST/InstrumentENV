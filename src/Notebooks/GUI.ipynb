{
 "cells": [
  {
   "cell_type": "markdown",
   "metadata": {},
   "source": [
    "<h1>Measurement Controls</h1>"
   ]
  },
  {
   "cell_type": "markdown",
   "metadata": {},
   "source": [
    "<h3>Mandatory Imports</h3>"
   ]
  },
  {
   "cell_type": "code",
   "execution_count": 15,
   "metadata": {},
   "outputs": [],
   "source": [
    "%reset -f\n",
    "\n",
    "from src.InstrumentDrivers.GUIController import GUIController as GUIC\n",
    "from src.InstrumentDrivers.Generic import Config\n",
    "\n",
    "Config.SET_LOGLEVEL = Config.LogLevel.DEBUG"
   ]
  },
  {
   "cell_type": "markdown",
   "metadata": {},
   "source": [
    "<h3>Instrument Selection</h3>"
   ]
  },
  {
   "cell_type": "code",
   "execution_count": 17,
   "metadata": {},
   "outputs": [
    {
     "name": "stderr",
     "output_type": "stream",
     "text": [
      "--- Logging error ---\n",
      "Traceback (most recent call last):\n",
      "  File \"c:\\pyrepo\\anaconda\\envs\\InstrumentENV\\Lib\\logging\\__init__.py\", line 1160, in emit\n",
      "    msg = self.format(record)\n",
      "          ^^^^^^^^^^^^^^^^^^^\n",
      "  File \"c:\\pyrepo\\anaconda\\envs\\InstrumentENV\\Lib\\logging\\__init__.py\", line 999, in format\n",
      "    return fmt.format(record)\n",
      "           ^^^^^^^^^^^^^^^^^^\n",
      "  File \"c:\\pyrepo\\anaconda\\envs\\InstrumentENV\\Lib\\logging\\__init__.py\", line 703, in format\n",
      "    record.message = record.getMessage()\n",
      "                     ^^^^^^^^^^^^^^^^^^^\n",
      "  File \"c:\\pyrepo\\anaconda\\envs\\InstrumentENV\\Lib\\logging\\__init__.py\", line 392, in getMessage\n",
      "    msg = msg % self.args\n",
      "          ~~~~^~~~~~~~~~~\n",
      "TypeError: not all arguments converted during string formatting\n",
      "Call stack:\n",
      "  File \"<frozen runpy>\", line 198, in _run_module_as_main\n",
      "  File \"<frozen runpy>\", line 88, in _run_code\n",
      "  File \"c:\\pyrepo\\anaconda\\envs\\InstrumentENV\\Lib\\site-packages\\ipykernel_launcher.py\", line 17, in <module>\n",
      "    app.launch_new_instance()\n",
      "  File \"c:\\pyrepo\\anaconda\\envs\\InstrumentENV\\Lib\\site-packages\\traitlets\\config\\application.py\", line 992, in launch_instance\n",
      "    app.start()\n",
      "  File \"c:\\pyrepo\\anaconda\\envs\\InstrumentENV\\Lib\\site-packages\\ipykernel\\kernelapp.py\", line 701, in start\n",
      "    self.io_loop.start()\n",
      "  File \"c:\\pyrepo\\anaconda\\envs\\InstrumentENV\\Lib\\site-packages\\tornado\\platform\\asyncio.py\", line 195, in start\n",
      "    self.asyncio_loop.run_forever()\n",
      "  File \"c:\\pyrepo\\anaconda\\envs\\InstrumentENV\\Lib\\asyncio\\windows_events.py\", line 321, in run_forever\n",
      "    super().run_forever()\n",
      "  File \"c:\\pyrepo\\anaconda\\envs\\InstrumentENV\\Lib\\asyncio\\base_events.py\", line 638, in run_forever\n",
      "    self._run_once()\n",
      "  File \"c:\\pyrepo\\anaconda\\envs\\InstrumentENV\\Lib\\asyncio\\base_events.py\", line 1971, in _run_once\n",
      "    handle._run()\n",
      "  File \"c:\\pyrepo\\anaconda\\envs\\InstrumentENV\\Lib\\asyncio\\events.py\", line 84, in _run\n",
      "    self._context.run(self._callback, *self._args)\n",
      "  File \"c:\\pyrepo\\anaconda\\envs\\InstrumentENV\\Lib\\site-packages\\ipykernel\\kernelbase.py\", line 534, in dispatch_queue\n",
      "    await self.process_one()\n",
      "  File \"c:\\pyrepo\\anaconda\\envs\\InstrumentENV\\Lib\\site-packages\\ipykernel\\kernelbase.py\", line 523, in process_one\n",
      "    await dispatch(*args)\n",
      "  File \"c:\\pyrepo\\anaconda\\envs\\InstrumentENV\\Lib\\site-packages\\ipykernel\\kernelbase.py\", line 429, in dispatch_shell\n",
      "    await result\n",
      "  File \"c:\\pyrepo\\anaconda\\envs\\InstrumentENV\\Lib\\site-packages\\ipykernel\\kernelbase.py\", line 767, in execute_request\n",
      "    reply_content = await reply_content\n",
      "  File \"c:\\pyrepo\\anaconda\\envs\\InstrumentENV\\Lib\\site-packages\\ipykernel\\ipkernel.py\", line 429, in do_execute\n",
      "    res = shell.run_cell(\n",
      "  File \"c:\\pyrepo\\anaconda\\envs\\InstrumentENV\\Lib\\site-packages\\ipykernel\\zmqshell.py\", line 549, in run_cell\n",
      "    return super().run_cell(*args, **kwargs)\n",
      "  File \"c:\\pyrepo\\anaconda\\envs\\InstrumentENV\\Lib\\site-packages\\IPython\\core\\interactiveshell.py\", line 3051, in run_cell\n",
      "    result = self._run_cell(\n",
      "  File \"c:\\pyrepo\\anaconda\\envs\\InstrumentENV\\Lib\\site-packages\\IPython\\core\\interactiveshell.py\", line 3106, in _run_cell\n",
      "    result = runner(coro)\n",
      "  File \"c:\\pyrepo\\anaconda\\envs\\InstrumentENV\\Lib\\site-packages\\IPython\\core\\async_helpers.py\", line 129, in _pseudo_sync_runner\n",
      "    coro.send(None)\n",
      "  File \"c:\\pyrepo\\anaconda\\envs\\InstrumentENV\\Lib\\site-packages\\IPython\\core\\interactiveshell.py\", line 3311, in run_cell_async\n",
      "    has_raised = await self.run_ast_nodes(code_ast.body, cell_name,\n",
      "  File \"c:\\pyrepo\\anaconda\\envs\\InstrumentENV\\Lib\\site-packages\\IPython\\core\\interactiveshell.py\", line 3493, in run_ast_nodes\n",
      "    if await self.run_code(code, result, async_=asy):\n",
      "  File \"c:\\pyrepo\\anaconda\\envs\\InstrumentENV\\Lib\\site-packages\\IPython\\core\\interactiveshell.py\", line 3553, in run_code\n",
      "    exec(code_obj, self.user_global_ns, self.user_ns)\n",
      "  File \"C:\\Users\\marek novotny\\AppData\\Local\\Temp\\ipykernel_18048\\2538009837.py\", line 1, in <module>\n",
      "    GUIC.view_inst_select()\n",
      "  File \"c:\\pyrepo\\anaconda\\envs\\InstrumentENV\\src\\InstrumentDrivers\\GUIController.py\", line 12, in view_inst_select\n",
      "    ID = InstrumentDiscovery()\n",
      "  File \"c:\\pyrepo\\anaconda\\envs\\InstrumentENV\\src\\InstrumentDrivers\\InstrumentDiscovery.py\", line 18, in __init__\n",
      "  File \"c:\\pyrepo\\anaconda\\envs\\InstrumentENV\\src\\InstrumentDrivers\\InstrumentDiscovery.py\", line 33, in get_handshakes\n",
      "    self.__handshakes[addr] = inst_name\n",
      "Message: '[0]'\n",
      "Arguments: ('USB0::0x05E6::0x6500::04612414::INSTR', 'KEITHLEY INSTRUMENTS,MODEL DMM6500,04612414,1.7.12b', '\\n')\n",
      "INFO:root:-> Connection to instrument closed\n",
      "INFO:root:-> Connection to instrument closed\n",
      "--- Logging error ---\n",
      "Traceback (most recent call last):\n",
      "  File \"c:\\pyrepo\\anaconda\\envs\\InstrumentENV\\Lib\\logging\\__init__.py\", line 1160, in emit\n",
      "    msg = self.format(record)\n",
      "          ^^^^^^^^^^^^^^^^^^^\n",
      "  File \"c:\\pyrepo\\anaconda\\envs\\InstrumentENV\\Lib\\logging\\__init__.py\", line 999, in format\n",
      "    return fmt.format(record)\n",
      "           ^^^^^^^^^^^^^^^^^^\n",
      "  File \"c:\\pyrepo\\anaconda\\envs\\InstrumentENV\\Lib\\logging\\__init__.py\", line 703, in format\n",
      "    record.message = record.getMessage()\n",
      "                     ^^^^^^^^^^^^^^^^^^^\n",
      "  File \"c:\\pyrepo\\anaconda\\envs\\InstrumentENV\\Lib\\logging\\__init__.py\", line 392, in getMessage\n",
      "    msg = msg % self.args\n",
      "          ~~~~^~~~~~~~~~~\n",
      "TypeError: not all arguments converted during string formatting\n",
      "Call stack:\n",
      "  File \"<frozen runpy>\", line 198, in _run_module_as_main\n",
      "  File \"<frozen runpy>\", line 88, in _run_code\n",
      "  File \"c:\\pyrepo\\anaconda\\envs\\InstrumentENV\\Lib\\site-packages\\ipykernel_launcher.py\", line 17, in <module>\n",
      "    app.launch_new_instance()\n",
      "  File \"c:\\pyrepo\\anaconda\\envs\\InstrumentENV\\Lib\\site-packages\\traitlets\\config\\application.py\", line 992, in launch_instance\n",
      "    app.start()\n",
      "  File \"c:\\pyrepo\\anaconda\\envs\\InstrumentENV\\Lib\\site-packages\\ipykernel\\kernelapp.py\", line 701, in start\n",
      "    self.io_loop.start()\n",
      "  File \"c:\\pyrepo\\anaconda\\envs\\InstrumentENV\\Lib\\site-packages\\tornado\\platform\\asyncio.py\", line 195, in start\n",
      "    self.asyncio_loop.run_forever()\n",
      "  File \"c:\\pyrepo\\anaconda\\envs\\InstrumentENV\\Lib\\asyncio\\windows_events.py\", line 321, in run_forever\n",
      "    super().run_forever()\n",
      "  File \"c:\\pyrepo\\anaconda\\envs\\InstrumentENV\\Lib\\asyncio\\base_events.py\", line 638, in run_forever\n",
      "    self._run_once()\n",
      "  File \"c:\\pyrepo\\anaconda\\envs\\InstrumentENV\\Lib\\asyncio\\base_events.py\", line 1971, in _run_once\n",
      "    handle._run()\n",
      "  File \"c:\\pyrepo\\anaconda\\envs\\InstrumentENV\\Lib\\asyncio\\events.py\", line 84, in _run\n",
      "    self._context.run(self._callback, *self._args)\n",
      "  File \"c:\\pyrepo\\anaconda\\envs\\InstrumentENV\\Lib\\site-packages\\ipykernel\\kernelbase.py\", line 534, in dispatch_queue\n",
      "    await self.process_one()\n",
      "  File \"c:\\pyrepo\\anaconda\\envs\\InstrumentENV\\Lib\\site-packages\\ipykernel\\kernelbase.py\", line 523, in process_one\n",
      "    await dispatch(*args)\n",
      "  File \"c:\\pyrepo\\anaconda\\envs\\InstrumentENV\\Lib\\site-packages\\ipykernel\\kernelbase.py\", line 429, in dispatch_shell\n",
      "    await result\n",
      "  File \"c:\\pyrepo\\anaconda\\envs\\InstrumentENV\\Lib\\site-packages\\ipykernel\\kernelbase.py\", line 767, in execute_request\n",
      "    reply_content = await reply_content\n",
      "  File \"c:\\pyrepo\\anaconda\\envs\\InstrumentENV\\Lib\\site-packages\\ipykernel\\ipkernel.py\", line 429, in do_execute\n",
      "    res = shell.run_cell(\n",
      "  File \"c:\\pyrepo\\anaconda\\envs\\InstrumentENV\\Lib\\site-packages\\ipykernel\\zmqshell.py\", line 549, in run_cell\n",
      "    return super().run_cell(*args, **kwargs)\n",
      "  File \"c:\\pyrepo\\anaconda\\envs\\InstrumentENV\\Lib\\site-packages\\IPython\\core\\interactiveshell.py\", line 3051, in run_cell\n",
      "    result = self._run_cell(\n",
      "  File \"c:\\pyrepo\\anaconda\\envs\\InstrumentENV\\Lib\\site-packages\\IPython\\core\\interactiveshell.py\", line 3106, in _run_cell\n",
      "    result = runner(coro)\n",
      "  File \"c:\\pyrepo\\anaconda\\envs\\InstrumentENV\\Lib\\site-packages\\IPython\\core\\async_helpers.py\", line 129, in _pseudo_sync_runner\n",
      "    coro.send(None)\n",
      "  File \"c:\\pyrepo\\anaconda\\envs\\InstrumentENV\\Lib\\site-packages\\IPython\\core\\interactiveshell.py\", line 3311, in run_cell_async\n",
      "    has_raised = await self.run_ast_nodes(code_ast.body, cell_name,\n",
      "  File \"c:\\pyrepo\\anaconda\\envs\\InstrumentENV\\Lib\\site-packages\\IPython\\core\\interactiveshell.py\", line 3493, in run_ast_nodes\n",
      "    if await self.run_code(code, result, async_=asy):\n",
      "  File \"c:\\pyrepo\\anaconda\\envs\\InstrumentENV\\Lib\\site-packages\\IPython\\core\\interactiveshell.py\", line 3553, in run_code\n",
      "    exec(code_obj, self.user_global_ns, self.user_ns)\n",
      "  File \"C:\\Users\\marek novotny\\AppData\\Local\\Temp\\ipykernel_18048\\2538009837.py\", line 1, in <module>\n",
      "    GUIC.view_inst_select()\n",
      "  File \"c:\\pyrepo\\anaconda\\envs\\InstrumentENV\\src\\InstrumentDrivers\\GUIController.py\", line 13, in view_inst_select\n",
      "    ID.get_handshakes()\n",
      "  File \"c:\\pyrepo\\anaconda\\envs\\InstrumentENV\\src\\InstrumentDrivers\\InstrumentDiscovery.py\", line 33, in get_handshakes\n",
      "    self.__handshakes[addr] = inst_name\n",
      "Message: '[0]'\n",
      "Arguments: ('USB0::0x05E6::0x6500::04612414::INSTR', 'KEITHLEY INSTRUMENTS,MODEL DMM6500,04612414,1.7.12b', '\\n')\n",
      "INFO:root:-> Connection to instrument closed\n",
      "INFO:root:-> Connection to instrument closed\n",
      "INFO:root:View with the same name exists, returning existing view.\n",
      "\n"
     ]
    },
    {
     "data": {
      "application/vnd.jupyter.widget-view+json": {
       "model_id": "99cdfeca6cce4a65a41a2af1efb1d648",
       "version_major": 2,
       "version_minor": 0
      },
      "text/plain": [
       "SelectMultiple(description='Available Instruments', index=(0,), layout=Layout(width='initial'), options={'KEIT…"
      ]
     },
     "metadata": {},
     "output_type": "display_data"
    },
    {
     "data": {
      "application/vnd.jupyter.widget-view+json": {
       "model_id": "52b2bb76e75942549377530fd13ecbbe",
       "version_major": 2,
       "version_minor": 0
      },
      "text/plain": [
       "Button(description='Click me', icon='check', style=ButtonStyle(), tooltip='Click me')"
      ]
     },
     "metadata": {},
     "output_type": "display_data"
    },
    {
     "name": "stderr",
     "output_type": "stream",
     "text": [
      "INFO:root:-> Resources successfully released\n"
     ]
    }
   ],
   "source": [
    "GUIC.view_inst_select()"
   ]
  }
 ],
 "metadata": {
  "kernelspec": {
   "display_name": "InstrumentENV",
   "language": "python",
   "name": "python3"
  },
  "language_info": {
   "codemirror_mode": {
    "name": "ipython",
    "version": 3
   },
   "file_extension": ".py",
   "mimetype": "text/x-python",
   "name": "python",
   "nbconvert_exporter": "python",
   "pygments_lexer": "ipython3",
   "version": "3.12.1"
  }
 },
 "nbformat": 4,
 "nbformat_minor": 2
}

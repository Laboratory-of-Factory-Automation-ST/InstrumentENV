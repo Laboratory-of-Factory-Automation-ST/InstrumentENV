{
 "cells": [
  {
   "cell_type": "markdown",
   "metadata": {},
   "source": [
    "# Reading raw data from TDS5104 oscilloscope\n",
    "To run this script, one needs to have TEK VISA library installed. Before opening any resource, make sure the instrument is succesfully identified by TEK VISA Resource Manager.\n",
    "\n",
    "Import all important modules."
   ]
  },
  {
   "cell_type": "code",
   "execution_count": 1,
   "metadata": {},
   "outputs": [],
   "source": [
    "from ipywidgets import interactive, interactive_output, widgets\n",
    "from tektronix import Waveform, ScopeTest\n",
    "from matplotlib import pyplot as plt                                                                      \n",
    "from scipy.signal import savgol_filter\n",
    "import numpy as np\n",
    "import pandas as pd\n",
    "import pyvisa\n",
    "import os\n",
    "import pickle\n",
    "import errno\n",
    "%matplotlib inline"
   ]
  },
  {
   "cell_type": "code",
   "execution_count": 2,
   "metadata": {},
   "outputs": [],
   "source": [
    "rlist = []\n",
    "rm = pyvisa.ResourceManager('')\n",
    "rlist = rm.list_resources()\n",
    "data = []\n",
    "\n",
    "scope = ScopeTest()\n",
    "\n",
    "w_resources = widgets.Select(options=rlist, description='Available resources')\n",
    "w_open = widgets.Button(description='Open resource', tooltip='Click to open resource.')\n",
    "w_chsel = widgets.SelectMultiple(options=[], description='Select channels to be downloaded.')\n",
    "w_download = widgets.Button(description='Download', tooltip='Click to start the waveform acquisition.')\n",
    "w_fileName = widgets.Text(value='file.bin', placeholder='Name of the saved file.', description='File:',\n",
    "                          layout=widgets.Layout(width='250%'))\n",
    "w_save = widgets.Button(description='Save waveform', tooltip='Click to save waveform file.')\n",
    "w_reload = widgets.Button(description='Refresh resources', tooltip='Click to refresh the list of available resources.')\n",
    "w_update = widgets.Button(description='Update channels', tooltip='Click to update list of available waveform sources.')\n",
    "w_disconnect = widgets.Button(description='Disconnect', tooltip='Click to disconnect from instrument.')\n",
    "\n",
    "def updateChannels(b):\n",
    "    chlist = scope.instr.query('DATa:SOUrce:AVAILable?').translate({ord(c): None for c in '\\n\\r'}).split(',')\n",
    "    w_chsel.options = chlist\n",
    "    \n",
    "def disconnect(b):\n",
    "    w_chsel.options = []\n",
    "    scope.instr.close()\n",
    "    print('Disconnected')\n",
    "\n",
    "def plotWaveforms(wfms):       \n",
    "    fig, ax = plt.subplots(1, 1, figsize=(16, 10))\n",
    "    for i, wfm in enumerate(wfms):\n",
    "        y = wfm.getRealDiv()\n",
    "        t = wfm.getTimeBase()\n",
    "\n",
    "        ax.plot(t * 1e6, y)\n",
    "        ax.grid()\n",
    "        \n",
    "    ax.set_ylim((-5, 5))\n",
    "    ax.set_yticks(np.linspace(-5, 5, 11))\n",
    "    ax.axes.yaxis.set_ticklabels([])\n",
    "    ax.grid(True)\n",
    "\n",
    "\n",
    "def connect_scope(b):\n",
    "    print('Opening resource \"' + w_resources.value + '\"')\n",
    "    scope.setResource(rm.open_resource(w_resources.value))\n",
    "    print(scope.instr.query('*IDN?'))\n",
    "    updateChannels(None)\n",
    "\n",
    "def printer(sel):\n",
    "    print('Selected channels: ' + str(sel))\n",
    "    \n",
    "def download_data(b):\n",
    "    w_out.clear_output(wait=True)\n",
    "    \n",
    "    try:\n",
    "        wfms = scope.readWaveforms([ch for ch in w_chsel.value])\n",
    "        data.clear()\n",
    "        for wfm in wfms:\n",
    "            data.append(wfm)\n",
    "            \n",
    "    except (visa.VisaIOError):\n",
    "        print('Channel data not available.')\n",
    "        return\n",
    "\n",
    "    with w_out:\n",
    "        plotWaveforms(data)\n",
    "        plt.show()\n",
    "            \n",
    "def save_file(b):\n",
    "    fname = w_fileName.value\n",
    "    if os.path.exists(fname):\n",
    "        raise FileExistsError('Filename already exists')\n",
    "    \n",
    "    if not os.path.exists(os.path.dirname(fname)):\n",
    "        try:\n",
    "            os.makedirs(os.path.dirname(fname))\n",
    "        except OSError as exc: # Guard against race condition\n",
    "            if exc.errno != errno.EEXIST:\n",
    "                raise\n",
    "\n",
    "    with open(fname, 'wb') as file:\n",
    "        pickle.dump(data, file)\n",
    "        print('Waveform saved.')\n",
    "\n",
    "    print('Saved file \"' + w_fileName.value + '\"')\n",
    "    \n",
    "def refresh_resources(b):\n",
    "    print('Updating available resources...')\n",
    "    rlist = rm.list_resources()\n",
    "    w_resources.options = rlist"
   ]
  },
  {
   "cell_type": "code",
   "execution_count": 3,
   "metadata": {},
   "outputs": [
    {
     "data": {
      "application/vnd.jupyter.widget-view+json": {
       "model_id": "824451f5b07f43de906826529a29417c",
       "version_major": 2,
       "version_minor": 0
      },
      "text/plain": [
       "VBox(children=(HBox(children=(Select(description='Available resources', options=('ASRL10::INSTR', 'ASRL11::INS…"
      ]
     },
     "metadata": {},
     "output_type": "display_data"
    }
   ],
   "source": [
    "w_out = widgets.Output()\n",
    "w_features = widgets.Output()\n",
    "w_ui = widgets.VBox([widgets.HBox([w_resources, widgets.VBox([w_open, w_reload])]),\n",
    "                     widgets.HBox([w_chsel, widgets.VBox([w_download, w_update, w_disconnect])]),\n",
    "                     w_out,\n",
    "                     widgets.HBox([w_fileName, w_save])])\n",
    "\n",
    "w_download.on_click(download_data)\n",
    "w_open.on_click(connect_scope)\n",
    "w_save.on_click(save_file)\n",
    "w_reload.on_click(refresh_resources)\n",
    "w_disconnect.on_click(disconnect)\n",
    "w_update.on_click(updateChannels)\n",
    "\n",
    "display(w_ui)"
   ]
  },
  {
   "cell_type": "code",
   "execution_count": 4,
   "metadata": {},
   "outputs": [
    {
     "name": "stdout",
     "output_type": "stream",
     "text": [
      "TEKTRONIX,MSO66B,C033987,CF:91.1CT FV:1.28.7.8352\n"
     ]
    }
   ],
   "source": [
    "scope.setResource(rm.open_resource('TCPIP0::10.139.2.156::inst0::INSTR'))\n",
    "print(scope.instr.query('*IDN?'))"
   ]
  },
  {
   "cell_type": "code",
   "execution_count": 23,
   "metadata": {},
   "outputs": [
    {
     "data": {
      "text/plain": [
       "['CH1', 'CH2', 'CH4']"
      ]
     },
     "execution_count": 23,
     "metadata": {},
     "output_type": "execute_result"
    }
   ],
   "source": [
    "chlist = scope.instr.query('DATa:SOUrce:AVAILable?').translate({ord(c): None for c in '\\n\\r'}).split(',')\n",
    "chlist"
   ]
  },
  {
   "cell_type": "code",
   "execution_count": 22,
   "metadata": {},
   "outputs": [
    {
     "data": {
      "text/plain": [
       "[<tektronix.Waveform at 0x25b2056e100>, <tektronix.Waveform at 0x25b2056e190>]"
      ]
     },
     "execution_count": 22,
     "metadata": {},
     "output_type": "execute_result"
    }
   ],
   "source": [
    "scope.readWaveforms(['CH1', 'CH2'])"
   ]
  },
  {
   "cell_type": "code",
   "execution_count": 4,
   "metadata": {},
   "outputs": [
    {
     "data": {
      "text/plain": [
       "'1'"
      ]
     },
     "execution_count": 4,
     "metadata": {},
     "output_type": "execute_result"
    }
   ],
   "source": [
    "scope.instr.query('ACQuire:SEQuence:CURrent?')"
   ]
  },
  {
   "cell_type": "code",
   "execution_count": 5,
   "metadata": {},
   "outputs": [
    {
     "data": {
      "text/plain": [
       "'NUMACQS'"
      ]
     },
     "execution_count": 5,
     "metadata": {},
     "output_type": "execute_result"
    }
   ],
   "source": [
    "scope.instr.query('ACQuire:SEQuence:MODe?')"
   ]
  },
  {
   "cell_type": "code",
   "execution_count": 10,
   "metadata": {},
   "outputs": [
    {
     "data": {
      "text/plain": [
       "'1'"
      ]
     },
     "execution_count": 10,
     "metadata": {},
     "output_type": "execute_result"
    }
   ],
   "source": [
    "scope.instr.query('ACQuire:STATE?')"
   ]
  },
  {
   "cell_type": "code",
   "execution_count": 28,
   "metadata": {},
   "outputs": [
    {
     "data": {
      "text/plain": [
       "18"
      ]
     },
     "execution_count": 28,
     "metadata": {},
     "output_type": "execute_result"
    }
   ],
   "source": [
    "scope.instr.write('ACQuire:STATE RUN')"
   ]
  },
  {
   "cell_type": "code",
   "execution_count": 10,
   "metadata": {},
   "outputs": [],
   "source": [
    "scope.instr.close()"
   ]
  },
  {
   "cell_type": "markdown",
   "metadata": {},
   "source": [
    "## Testing of enhanced version"
   ]
  },
  {
   "cell_type": "code",
   "execution_count": null,
   "metadata": {},
   "outputs": [],
   "source": [
    "from ipywidgets import interactive, interactive_output\n",
    "from ipywidgets import widgets as ws\n",
    "from tektronix import Waveform, ScopeTest\n",
    "from matplotlib import pyplot as plt\n",
    "from scipy.signal import savgol_filter\n",
    "import numpy as np\n",
    "import pandas as pd\n",
    "import visa\n",
    "import os\n",
    "import pickle\n",
    "%matplotlib inline"
   ]
  },
  {
   "cell_type": "raw",
   "metadata": {},
   "source": [
    "rlist = []\n",
    "rm = visa.ResourceManager('')\n",
    "rlist = rm.list_resources()\n",
    "data = []\n",
    "channels = [('CH1', 1), ('CH2', 2), ('CH3', 3), ('CH4', 4)]\n",
    "\n",
    "scope = ScopeTest()\n",
    "\n",
    "w_resources = ws.Select(options=rlist, description='Available resources')\n",
    "w_open = ws.Button(description='Open resource', tooltip='Click to open resource.')\n",
    "w_chsel = ws.SelectMultiple(options=channels, description='Select channels to be downloaded.')\n",
    "w_download = ws.Button(description='Download', tooltip='Click to start the waveform acquisition.')\n",
    "w_fileName = ws.Text(value='file.csv', placeholder='Name of the saved file.', description='File:',\n",
    "                          layout=ws.Layout(width='250%'))\n",
    "w_save = ws.Button(description='Save waveform', tooltip='Click to save waveform file.')\n",
    "w_reload = ws.Button(description='Refresh resources', tooltip='Click to refresh the list of available resources.')\n",
    "\n",
    "wAdjustSel = ws.SelectMultiple(options=channels, description='Select channel')\n",
    "wAdjust = ws.Button(description='Vertical adjust', tooltip='Click to perform vertical adjust on selected channels.')\n",
    "wAcquisition = ws.RadioButtons(options=['SAMPLE', 'AVERAGE'], value='SAMPLE')\n",
    "wSelectTr = ws.RadioButtons(options=['Turn on', 'Turn off'], value='Turn on')\n",
    "wSetDPTSettings = ws.Button(description='DPT Settings', tooltip='Click to set predefined settings for DPT')\n",
    "\n",
    "def setAcquisition(b):\n",
    "    if b['name'] == 'value':\n",
    "        scope.instr.write('ACQuire:MODe {:s}'.format(b['new']))\n",
    "    \n",
    "def setDPTSettings(b):\n",
    "    scope.instr.write('ACQuire:NUMAVg 64')\n",
    "    scope.instr.write('TRIGger:A:MODe NORMal')\n",
    "    scope.instr.write('TRIGger:A:PULse:SOUrce CH2')\n",
    "    scope.instr.write('TRIGger:A:LEVel 50.0')\n",
    "    scope.instr.write('TRIGger:A:PULse:WIDth:HIGHLimit 100.0E-6')\n",
    "    scope.instr.write('TRIGger:A:PULse:WIDth:LOWLimit 500.0E-9')\n",
    "    scope.instr.write('HORizontal:SCAle 80e-9')\n",
    "    scope.instr.write('HORizontal:RECOrdlength 50000')\n",
    "    \n",
    "    setAcquisition({'name': 'value', 'new': wAcquisition.value})\n",
    "    setTransient({'name': 'value', 'new': wSelectTr.value})\n",
    "    \n",
    "def setTransient(b):\n",
    "    if b['name'] == 'value':\n",
    "        if b['new'] == 'Turn on':\n",
    "            scope.instr.write('HORizontal:TRIGger:POSition 30')\n",
    "            scope.instr.write('TRIGger:A:PULse:WIDth:POLarity POSITIVE')\n",
    "        else:\n",
    "            scope.instr.write('HORizontal:TRIGger:POSition 30')\n",
    "            scope.instr.write('TRIGger:A:PULse:WIDth:POLarity NEGATIVE')\n",
    "\n",
    "            \n",
    "def verticalAdjust(b):\n",
    "    scope.verticalAdjust([ch for ch in wAdjustSel.value])\n",
    "\n",
    "def plotWaveforms(wfms):       \n",
    "    fig, axs = plt.subplots(1, len(wfms), figsize=(16, 10))\n",
    "    if len(wfms) > 1:\n",
    "        for i, wfm in enumerate(wfms):\n",
    "            y = wfm.getReal()\n",
    "            t = wfm.getTimeBase()\n",
    "\n",
    "            us = wfm.vs * (5 - wfm.vp)\n",
    "            ls = -wfm.vs * (5 + wfm.vp)\n",
    "\n",
    "            axs[i].plot(t * 1e6, y)\n",
    "            axs[i].axhline(y=us, linestyle='--', color='k', linewidth=0.8)\n",
    "            axs[i].axhline(y=ls, linestyle='--', color='k', linewidth=0.8)\n",
    "            axs[i].set_ylim((-10 * wfm.vs, 10 * wfm.vs))\n",
    "            axs[i].set_yticks(np.linspace(-10 * wfm.vs, 10 * wfm.vs, 21))\n",
    "            axs[i].grid()\n",
    "    else:\n",
    "        y = wfms[0].getReal()\n",
    "        t = wfms[0].getTimeBase()\n",
    "\n",
    "        us = wfms[0].vs * (5 - wfms[0].vp)\n",
    "        ls = -wfms[0].vs * (5 + wfms[0].vp)\n",
    "\n",
    "        axs.plot(t * 1e6, y)\n",
    "        axs.axhline(y=us, linestyle='--', color='k', linewidth=0.8)\n",
    "        axs.axhline(y=ls, linestyle='--', color='k', linewidth=0.8)\n",
    "        axs.set_ylim((-10 * wfms[0].vs, 10 * wfms[0].vs))\n",
    "        axs.set_yticks(np.linspace(-10 * wfms[0].vs, 10 * wfms[0].vs, 21))\n",
    "        axs.grid()\n",
    "\n",
    "def connect_scope(b):\n",
    "    print('Opening resource \"' + w_resources.value + '\"')\n",
    "    scope.connectResource(rm.open_resource(w_resources.value))\n",
    "    print(scope.instr.query('*IDN?'))\n",
    "\n",
    "def printer(sel):\n",
    "    print('Selected channels: ' + str(sel))\n",
    "    \n",
    "def download_data(b):\n",
    "    w_out.clear_output(wait=True)\n",
    "    \n",
    "    try:\n",
    "        scope.instr.write('ACQuire:STATE 0')\n",
    "        wfms = scope.readWaveforms([ch for ch in w_chsel.value])\n",
    "        scope.instr.write('ACQuire:STATE 1')\n",
    "        \n",
    "        data.clear()\n",
    "        for wfm in wfms:\n",
    "            data.append(wfm)\n",
    "            \n",
    "    except (visa.VisaIOError):\n",
    "        print('Channel data not available.')\n",
    "        return\n",
    "\n",
    "    with w_out:\n",
    "        plotWaveforms(data)\n",
    "        plt.show()\n",
    "            \n",
    "def save_file(b):\n",
    "    fname = w_fileName.value\n",
    "    if os.path.exists(fname):\n",
    "        raise FileExistsError('Filename already exists')\n",
    "    \n",
    "    if not os.path.exists(os.path.dirname(fname)):\n",
    "        try:\n",
    "            os.makedirs(os.path.dirname(fname))\n",
    "        except OSError as exc: # Guard against race condition\n",
    "            if exc.errno != errno.EEXIST:\n",
    "                raise\n",
    "\n",
    "    with open(fname, 'wb') as file:\n",
    "        pickle.dump(data, file)\n",
    "        print('Waveform saved.')\n",
    "\n",
    "    print('Saved file \"' + w_fileName.value + '\"')\n",
    "    \n",
    "def refresh_resources(b):\n",
    "    print('Updating available resources...')\n",
    "    rlist = rm.list_resources()\n",
    "    w_resources.options = rlist"
   ]
  },
  {
   "cell_type": "raw",
   "metadata": {},
   "source": [
    "w_out = ws.Output()\n",
    "w_features = ws.Output()\n",
    "w_ui = ws.VBox([ws.HBox([w_resources, ws.VBox([w_open, w_reload, wSetDPTSettings])]),\n",
    "                ws.HBox([w_chsel, w_download]),\n",
    "                ws.HBox([wAdjustSel, wAdjust, ws.VBox([ws.HBox([ws.Label(value='Acquisition'), wAcquisition]),\n",
    "                                                       ws.HBox([ws.Label(value='Transient'), wSelectTr])])]),\n",
    "                w_out,\n",
    "                ws.HBox([w_fileName, w_save])])\n",
    "\n",
    "w_download.on_click(download_data)\n",
    "w_open.on_click(connect_scope)\n",
    "w_save.on_click(save_file)\n",
    "w_reload.on_click(refresh_resources)\n",
    "wSetDPTSettings.on_click(setDPTSettings)\n",
    "wAdjust.on_click(verticalAdjust)\n",
    "\n",
    "wAcquisition.observe(setAcquisition, names='value')\n",
    "wSelectTr.observe(setTransient, names='value')\n",
    "\n",
    "display(w_ui)"
   ]
  },
  {
   "cell_type": "raw",
   "metadata": {},
   "source": [
    "wRanges = ws.SelectionSlider(\n",
    "    options=['1 mV', '2 mV', '5 mV', '10 mV'],\n",
    "    value='2 mV',\n",
    "    description='Scale',\n",
    "    disabled=False,\n",
    "    continuous_update=False,\n",
    "    orientation='vertical',\n",
    "    readout=True\n",
    ")\n",
    "\n",
    "wPosition = ws.FloatSlider(\n",
    "    value=7.5,\n",
    "    min=-10.0,\n",
    "    max=10.0,\n",
    "    step=0.1,\n",
    "    description='Position',\n",
    "    disabled=False,\n",
    "    continuous_update=False,\n",
    "    orientation='vertical',\n",
    "    readout=True,\n",
    "    readout_format='.1f',\n",
    ")\n",
    "\n",
    "wUI = ws.VBox([ws.Label(value='Channel 1'), ws.HBox([wRanges, wPosition])])\n",
    "display(wUI)"
   ]
  },
  {
   "cell_type": "code",
   "execution_count": null,
   "metadata": {},
   "outputs": [],
   "source": []
  }
 ],
 "metadata": {
  "kernelspec": {
   "display_name": "Python 3 (ipykernel)",
   "language": "python",
   "name": "python3"
  },
  "language_info": {
   "codemirror_mode": {
    "name": "ipython",
    "version": 3
   },
   "file_extension": ".py",
   "mimetype": "text/x-python",
   "name": "python",
   "nbconvert_exporter": "python",
   "pygments_lexer": "ipython3",
   "version": "3.11.4"
  },
  "widgets": {
   "application/vnd.jupyter.widget-state+json": {
    "state": {
     "07742c8cb86942a7882201157ab05b27": {
      "model_module": "@jupyter-widgets/controls",
      "model_module_version": "1.5.0",
      "model_name": "SelectMultipleModel",
      "state": {
       "_options_labels": [
        "CH1",
        "CH2",
        "CH3",
        "CH4"
       ],
       "description": "Select channels to be downloaded.",
       "index": [],
       "layout": "IPY_MODEL_2cfdd6dcb0154ed5aab5d24e15ea4c41",
       "rows": 5,
       "style": "IPY_MODEL_315fdf21d5614c4eb95fb505f6efb9a1"
      }
     },
     "09162ea059f44cfe9947780e3b770e5e": {
      "model_module": "@jupyter-widgets/controls",
      "model_module_version": "1.5.0",
      "model_name": "ButtonStyleModel",
      "state": {}
     },
     "10a7e31b830b49d2990ea7521ee1c58c": {
      "model_module": "@jupyter-widgets/controls",
      "model_module_version": "1.5.0",
      "model_name": "HBoxModel",
      "state": {
       "children": [
        "IPY_MODEL_9f0f1e600e4241168c6f625db559ca45",
        "IPY_MODEL_60a3b9c3741b4a6c9d1a442be1487ef6"
       ],
       "layout": "IPY_MODEL_f2219c35d31f4d0e913b0abb11840225"
      }
     },
     "111b2a2e23fe4bc0aab970b7322f7db3": {
      "model_module": "@jupyter-widgets/controls",
      "model_module_version": "1.5.0",
      "model_name": "ButtonStyleModel",
      "state": {}
     },
     "11ebe309ff714c2a86c6bc1861c300cc": {
      "model_module": "@jupyter-widgets/base",
      "model_module_version": "1.2.0",
      "model_name": "LayoutModel",
      "state": {}
     },
     "14cbf55583154e9abb2d18c87573e4d1": {
      "model_module": "@jupyter-widgets/base",
      "model_module_version": "1.2.0",
      "model_name": "LayoutModel",
      "state": {}
     },
     "17522d97f1f249beabcbf4dff0341380": {
      "model_module": "@jupyter-widgets/base",
      "model_module_version": "1.2.0",
      "model_name": "LayoutModel",
      "state": {}
     },
     "193de5f49b6043a8a33d619c47e03fd2": {
      "model_module": "@jupyter-widgets/base",
      "model_module_version": "1.2.0",
      "model_name": "LayoutModel",
      "state": {}
     },
     "2cfdd6dcb0154ed5aab5d24e15ea4c41": {
      "model_module": "@jupyter-widgets/base",
      "model_module_version": "1.2.0",
      "model_name": "LayoutModel",
      "state": {}
     },
     "31123f6d57af4080af00418113091d7d": {
      "model_module": "@jupyter-widgets/base",
      "model_module_version": "1.2.0",
      "model_name": "LayoutModel",
      "state": {}
     },
     "315fdf21d5614c4eb95fb505f6efb9a1": {
      "model_module": "@jupyter-widgets/controls",
      "model_module_version": "1.5.0",
      "model_name": "DescriptionStyleModel",
      "state": {
       "description_width": ""
      }
     },
     "3389fe9abc714705878b3a698623c4d5": {
      "model_module": "@jupyter-widgets/base",
      "model_module_version": "1.2.0",
      "model_name": "LayoutModel",
      "state": {}
     },
     "34839ddcc84349a39177fec1c2537188": {
      "model_module": "@jupyter-widgets/base",
      "model_module_version": "1.2.0",
      "model_name": "LayoutModel",
      "state": {}
     },
     "379731b163534358a56836fa2d7bd99f": {
      "model_module": "@jupyter-widgets/controls",
      "model_module_version": "1.5.0",
      "model_name": "DescriptionStyleModel",
      "state": {
       "description_width": ""
      }
     },
     "3ba859e219a241a3a399def278db67a4": {
      "model_module": "@jupyter-widgets/base",
      "model_module_version": "1.2.0",
      "model_name": "LayoutModel",
      "state": {}
     },
     "3e3daa7af4cd4f57aba84440e04bf10b": {
      "model_module": "@jupyter-widgets/controls",
      "model_module_version": "1.5.0",
      "model_name": "DescriptionStyleModel",
      "state": {
       "description_width": ""
      }
     },
     "424db575b7f94b8ebc75308cb3a3888f": {
      "model_module": "@jupyter-widgets/base",
      "model_module_version": "1.2.0",
      "model_name": "LayoutModel",
      "state": {}
     },
     "43ea871928cf4354a19b3ccac30753da": {
      "model_module": "@jupyter-widgets/controls",
      "model_module_version": "1.5.0",
      "model_name": "HBoxModel",
      "state": {
       "children": [
        "IPY_MODEL_07742c8cb86942a7882201157ab05b27",
        "IPY_MODEL_6ee4f1c4565a4017bcced2207e73e7c8"
       ],
       "layout": "IPY_MODEL_3ba859e219a241a3a399def278db67a4"
      }
     },
     "4a4a8f0bf2614a31ab5f045771b31f28": {
      "model_module": "@jupyter-widgets/controls",
      "model_module_version": "1.5.0",
      "model_name": "HBoxModel",
      "state": {
       "children": [
        "IPY_MODEL_8d39fe1ce0da4b6fad776dd365926301",
        "IPY_MODEL_d7ec3a4cbe114522ab58760b61bd8ec4"
       ],
       "layout": "IPY_MODEL_11ebe309ff714c2a86c6bc1861c300cc"
      }
     },
     "4df5f3746bb340fd8bfdca0dcd958b4d": {
      "model_module": "@jupyter-widgets/base",
      "model_module_version": "1.2.0",
      "model_name": "LayoutModel",
      "state": {}
     },
     "523f4d8e86c6452e8531c6b40619cce6": {
      "model_module": "@jupyter-widgets/base",
      "model_module_version": "1.2.0",
      "model_name": "LayoutModel",
      "state": {}
     },
     "54378357f4064a0a8db0cbbab322ddf7": {
      "model_module": "@jupyter-widgets/controls",
      "model_module_version": "1.5.0",
      "model_name": "HBoxModel",
      "state": {
       "children": [
        "IPY_MODEL_906aefbd0df8495f8f947e503526108f",
        "IPY_MODEL_a5a4757cf7a443839d9e1a52d9aaab04"
       ],
       "layout": "IPY_MODEL_31123f6d57af4080af00418113091d7d"
      }
     },
     "57e260bd11c04a7d9ea7f41b9a9fc04e": {
      "model_module": "@jupyter-widgets/controls",
      "model_module_version": "1.5.0",
      "model_name": "DescriptionStyleModel",
      "state": {
       "description_width": ""
      }
     },
     "593bfc3d3e14406f8ddd619a27b388ba": {
      "model_module": "@jupyter-widgets/base",
      "model_module_version": "1.2.0",
      "model_name": "LayoutModel",
      "state": {}
     },
     "5b4cdfc8e5c0482795bf843ffa8263e5": {
      "model_module": "@jupyter-widgets/base",
      "model_module_version": "1.2.0",
      "model_name": "LayoutModel",
      "state": {}
     },
     "5d75ed8571154ff8b7b6fea5890c05f2": {
      "model_module": "@jupyter-widgets/base",
      "model_module_version": "1.2.0",
      "model_name": "LayoutModel",
      "state": {}
     },
     "60a3b9c3741b4a6c9d1a442be1487ef6": {
      "model_module": "@jupyter-widgets/controls",
      "model_module_version": "1.5.0",
      "model_name": "ButtonModel",
      "state": {
       "description": "Download",
       "layout": "IPY_MODEL_ef1f4d268c62431cbeaf529d7cb5bf83",
       "style": "IPY_MODEL_d869ea1cacb0484a9b671e09d3f72c06",
       "tooltip": "Click to start the waveform acquisition."
      }
     },
     "6671288c069b4362a269c2befb3d1919": {
      "model_module": "@jupyter-widgets/controls",
      "model_module_version": "1.5.0",
      "model_name": "TextModel",
      "state": {
       "description": "File:",
       "layout": "IPY_MODEL_193de5f49b6043a8a33d619c47e03fd2",
       "placeholder": "Name of the saved file.",
       "style": "IPY_MODEL_dae8004d6c4c4b49895587fe93a6c1da",
       "value": "file.csv"
      }
     },
     "6ee4f1c4565a4017bcced2207e73e7c8": {
      "model_module": "@jupyter-widgets/controls",
      "model_module_version": "1.5.0",
      "model_name": "ButtonModel",
      "state": {
       "description": "Download",
       "layout": "IPY_MODEL_4df5f3746bb340fd8bfdca0dcd958b4d",
       "style": "IPY_MODEL_94e4e02b8bca4f00b5fdb8431cc538c6",
       "tooltip": "Click to start the waveform acquisition."
      }
     },
     "7051f996a67941e0885bdda534adc4e0": {
      "model_module": "@jupyter-widgets/output",
      "model_module_version": "1.0.0",
      "model_name": "OutputModel",
      "state": {
       "layout": "IPY_MODEL_c7e3f9ca8f6a4e4e9ee78627fcd3b9ce"
      }
     },
     "783aa264465d4775b8ff263b0bafcb20": {
      "model_module": "@jupyter-widgets/controls",
      "model_module_version": "1.5.0",
      "model_name": "DescriptionStyleModel",
      "state": {
       "description_width": ""
      }
     },
     "81dc9f6668bb46ffbf2cdcab2de790b3": {
      "model_module": "@jupyter-widgets/controls",
      "model_module_version": "1.5.0",
      "model_name": "ButtonModel",
      "state": {
       "description": "Save file",
       "layout": "IPY_MODEL_14cbf55583154e9abb2d18c87573e4d1",
       "style": "IPY_MODEL_09162ea059f44cfe9947780e3b770e5e",
       "tooltip": "Click to save waveform file."
      }
     },
     "8d39fe1ce0da4b6fad776dd365926301": {
      "model_module": "@jupyter-widgets/controls",
      "model_module_version": "1.5.0",
      "model_name": "SelectModel",
      "state": {
       "description": "Available resources",
       "index": null,
       "layout": "IPY_MODEL_424db575b7f94b8ebc75308cb3a3888f",
       "style": "IPY_MODEL_379731b163534358a56836fa2d7bd99f"
      }
     },
     "906aefbd0df8495f8f947e503526108f": {
      "model_module": "@jupyter-widgets/controls",
      "model_module_version": "1.5.0",
      "model_name": "TextModel",
      "state": {
       "description": "File:",
       "layout": "IPY_MODEL_9e1888f71b384bc38de8702320cad11e",
       "placeholder": "Name of the saved file.",
       "style": "IPY_MODEL_57e260bd11c04a7d9ea7f41b9a9fc04e",
       "value": "file.csv"
      }
     },
     "94e4e02b8bca4f00b5fdb8431cc538c6": {
      "model_module": "@jupyter-widgets/controls",
      "model_module_version": "1.5.0",
      "model_name": "ButtonStyleModel",
      "state": {}
     },
     "9cf83bb43c654a0082f9ad550ba2578f": {
      "model_module": "@jupyter-widgets/controls",
      "model_module_version": "1.5.0",
      "model_name": "VBoxModel",
      "state": {
       "children": [
        "IPY_MODEL_4a4a8f0bf2614a31ab5f045771b31f28",
        "IPY_MODEL_10a7e31b830b49d2990ea7521ee1c58c",
        "IPY_MODEL_f3924b78ae914a40a5f1eda46907b10d",
        "IPY_MODEL_54378357f4064a0a8db0cbbab322ddf7"
       ],
       "layout": "IPY_MODEL_593bfc3d3e14406f8ddd619a27b388ba"
      }
     },
     "9e1888f71b384bc38de8702320cad11e": {
      "model_module": "@jupyter-widgets/base",
      "model_module_version": "1.2.0",
      "model_name": "LayoutModel",
      "state": {}
     },
     "9f0f1e600e4241168c6f625db559ca45": {
      "model_module": "@jupyter-widgets/controls",
      "model_module_version": "1.5.0",
      "model_name": "SelectMultipleModel",
      "state": {
       "_options_labels": [
        "CH1",
        "CH2",
        "CH3",
        "CH4"
       ],
       "description": "Select channels to be downloaded.",
       "index": [],
       "layout": "IPY_MODEL_b545ba48c1ce49588e570319fb3097e8",
       "rows": 5,
       "style": "IPY_MODEL_783aa264465d4775b8ff263b0bafcb20"
      }
     },
     "a10a53ceee1741fb830ba40ade1ace9c": {
      "model_module": "@jupyter-widgets/controls",
      "model_module_version": "1.5.0",
      "model_name": "VBoxModel",
      "state": {
       "children": [
        "IPY_MODEL_b84d911336584a62b086af9c838b3b17",
        "IPY_MODEL_43ea871928cf4354a19b3ccac30753da",
        "IPY_MODEL_7051f996a67941e0885bdda534adc4e0",
        "IPY_MODEL_c1eeab96f6f043f798de3581017faffa"
       ],
       "layout": "IPY_MODEL_d0a2d4b7abdb459f8ba6c3d3b028c7da"
      }
     },
     "a3fe405dd571444496daa7d0e9baa2e9": {
      "model_module": "@jupyter-widgets/controls",
      "model_module_version": "1.5.0",
      "model_name": "ButtonModel",
      "state": {
       "description": "Open resource",
       "layout": "IPY_MODEL_5d75ed8571154ff8b7b6fea5890c05f2",
       "style": "IPY_MODEL_111b2a2e23fe4bc0aab970b7322f7db3",
       "tooltip": "Click to open resource."
      }
     },
     "a5a4757cf7a443839d9e1a52d9aaab04": {
      "model_module": "@jupyter-widgets/controls",
      "model_module_version": "1.5.0",
      "model_name": "ButtonModel",
      "state": {
       "description": "Save file",
       "layout": "IPY_MODEL_523f4d8e86c6452e8531c6b40619cce6",
       "style": "IPY_MODEL_e18d5e98bc8f4d5bbea789dd51dabb7d",
       "tooltip": "Click to save waveform file."
      }
     },
     "b1e880e9d23b4444bc54d383da216143": {
      "model_module": "@jupyter-widgets/controls",
      "model_module_version": "1.5.0",
      "model_name": "SelectModel",
      "state": {
       "_options_labels": [
        "ASRL13::INSTR",
        "ASRL15::INSTR",
        "TCPIP::10.139.2.156::gpib0,1::INSTR",
        "TCPIP::10.139.2.156::INSTR"
       ],
       "description": "Available resources",
       "index": 3,
       "layout": "IPY_MODEL_17522d97f1f249beabcbf4dff0341380",
       "style": "IPY_MODEL_3e3daa7af4cd4f57aba84440e04bf10b"
      }
     },
     "b545ba48c1ce49588e570319fb3097e8": {
      "model_module": "@jupyter-widgets/base",
      "model_module_version": "1.2.0",
      "model_name": "LayoutModel",
      "state": {}
     },
     "b84d911336584a62b086af9c838b3b17": {
      "model_module": "@jupyter-widgets/controls",
      "model_module_version": "1.5.0",
      "model_name": "HBoxModel",
      "state": {
       "children": [
        "IPY_MODEL_b1e880e9d23b4444bc54d383da216143",
        "IPY_MODEL_a3fe405dd571444496daa7d0e9baa2e9"
       ],
       "layout": "IPY_MODEL_34839ddcc84349a39177fec1c2537188"
      }
     },
     "c1eeab96f6f043f798de3581017faffa": {
      "model_module": "@jupyter-widgets/controls",
      "model_module_version": "1.5.0",
      "model_name": "HBoxModel",
      "state": {
       "children": [
        "IPY_MODEL_6671288c069b4362a269c2befb3d1919",
        "IPY_MODEL_81dc9f6668bb46ffbf2cdcab2de790b3"
       ],
       "layout": "IPY_MODEL_d8b712c8b3da4705bc23860e1dd82540"
      }
     },
     "c7e3f9ca8f6a4e4e9ee78627fcd3b9ce": {
      "model_module": "@jupyter-widgets/base",
      "model_module_version": "1.2.0",
      "model_name": "LayoutModel",
      "state": {}
     },
     "d079552b83d6413eb046c34745bb1588": {
      "model_module": "@jupyter-widgets/controls",
      "model_module_version": "1.5.0",
      "model_name": "ButtonStyleModel",
      "state": {}
     },
     "d0a2d4b7abdb459f8ba6c3d3b028c7da": {
      "model_module": "@jupyter-widgets/base",
      "model_module_version": "1.2.0",
      "model_name": "LayoutModel",
      "state": {}
     },
     "d7ec3a4cbe114522ab58760b61bd8ec4": {
      "model_module": "@jupyter-widgets/controls",
      "model_module_version": "1.5.0",
      "model_name": "ButtonModel",
      "state": {
       "description": "Open resource",
       "layout": "IPY_MODEL_5b4cdfc8e5c0482795bf843ffa8263e5",
       "style": "IPY_MODEL_d079552b83d6413eb046c34745bb1588",
       "tooltip": "Click to open resource."
      }
     },
     "d869ea1cacb0484a9b671e09d3f72c06": {
      "model_module": "@jupyter-widgets/controls",
      "model_module_version": "1.5.0",
      "model_name": "ButtonStyleModel",
      "state": {}
     },
     "d8b712c8b3da4705bc23860e1dd82540": {
      "model_module": "@jupyter-widgets/base",
      "model_module_version": "1.2.0",
      "model_name": "LayoutModel",
      "state": {}
     },
     "dae8004d6c4c4b49895587fe93a6c1da": {
      "model_module": "@jupyter-widgets/controls",
      "model_module_version": "1.5.0",
      "model_name": "DescriptionStyleModel",
      "state": {
       "description_width": ""
      }
     },
     "e18d5e98bc8f4d5bbea789dd51dabb7d": {
      "model_module": "@jupyter-widgets/controls",
      "model_module_version": "1.5.0",
      "model_name": "ButtonStyleModel",
      "state": {}
     },
     "ef1f4d268c62431cbeaf529d7cb5bf83": {
      "model_module": "@jupyter-widgets/base",
      "model_module_version": "1.2.0",
      "model_name": "LayoutModel",
      "state": {}
     },
     "f2219c35d31f4d0e913b0abb11840225": {
      "model_module": "@jupyter-widgets/base",
      "model_module_version": "1.2.0",
      "model_name": "LayoutModel",
      "state": {}
     },
     "f3924b78ae914a40a5f1eda46907b10d": {
      "model_module": "@jupyter-widgets/output",
      "model_module_version": "1.0.0",
      "model_name": "OutputModel",
      "state": {
       "layout": "IPY_MODEL_3389fe9abc714705878b3a698623c4d5"
      }
     }
    },
    "version_major": 2,
    "version_minor": 0
   }
  }
 },
 "nbformat": 4,
 "nbformat_minor": 4
}
